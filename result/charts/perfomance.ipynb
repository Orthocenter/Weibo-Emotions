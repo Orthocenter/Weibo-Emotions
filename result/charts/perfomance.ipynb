{
 "cells": [
  {
   "cell_type": "code",
   "execution_count": 3,
   "metadata": {
    "collapsed": false
   },
   "outputs": [],
   "source": [
    "%matplotlib inline\n",
    "\n",
    "import matplotlib\n",
    "import matplotlib.pyplot as plt\n",
    "import numpy as np\n",
    "\n",
    "local = []\n",
    "cluster = []\n",
    "nums = []\n",
    "\n",
    "with open('../performance', 'r') as f:\n",
    "    for line in f:\n",
    "        l = line.split()\n",
    "        local.append(float(l[0]))\n",
    "        nums.append(int(l[1]))\n",
    "        cluster.append(float(l[2]))"
   ]
  },
  {
   "cell_type": "code",
   "execution_count": 12,
   "metadata": {
    "collapsed": false
   },
   "outputs": [
    {
     "data": {
      "image/png": "[encoded data removed]",
      "text/plain": [
       "<matplotlib.figure.Figure at 0x107d62690>"
      ]
     },
     "metadata": {},
     "output_type": "display_data"
    }
   ],
   "source": [
    "ind = np.arange(len(local))    # the x locations for the groups\n",
    "\n",
    "p1 = plt.bar(ind, local, 0.35, color='r', alpha=0.4)\n",
    "p2 = plt.bar(ind + 0.35, cluster, 0.35, color='b', alpha=0.4)\n",
    "\n",
    "plt.ylabel('#weibo')\n",
    "plt.xlabel('Time(s)')\n",
    "plt.title('#weibo - perfomance')\n",
    "# plt.xlim([0, 24])\n",
    "x = range(0, len(nums), 1)\n",
    "_ = plt.xticks(x, [nums[i] for i in x], rotation=30)\n",
    "\n",
    "plt.savefig('performance.png', dpi = 600)"
   ]
  },
  {
   "cell_type": "code",
   "execution_count": null,
   "metadata": {
    "collapsed": false,
    "scrolled": true
   },
   "outputs": [],
   "source": []
  },
  {
   "cell_type": "code",
   "execution_count": null,
   "metadata": {
    "collapsed": false
   },
   "outputs": [],
   "source": []
  },
  {
   "cell_type": "code",
   "execution_count": null,
   "metadata": {
    "collapsed": true
   },
   "outputs": [],
   "source": []
  }
 ],
 "metadata": {
  "kernelspec": {
   "display_name": "Python 2",
   "language": "python",
   "name": "python2"
  },
  "language_info": {
   "codemirror_mode": {
    "name": "ipython",
    "version": 2
   },
   "file_extension": ".py",
   "mimetype": "text/x-python",
   "name": "python",
   "nbconvert_exporter": "python",
   "pygments_lexer": "ipython2",
   "version": "2.7.10"
  }
 },
 "nbformat": 4,
 "nbformat_minor": 0
}
